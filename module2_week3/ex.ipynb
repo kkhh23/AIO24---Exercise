{
 "cells": [
  {
   "cell_type": "code",
   "execution_count": 16,
   "metadata": {},
   "outputs": [],
   "source": [
    "import numpy as np\n",
    "import math\n",
    "mean = 3.733\n",
    "sigma = 0.172\n",
    "x= 3.4"
   ]
  },
  {
   "cell_type": "code",
   "execution_count": 20,
   "metadata": {},
   "outputs": [
    {
     "data": {
      "text/plain": [
       "0.3484337884730215"
      ]
     },
     "execution_count": 20,
     "metadata": {},
     "output_type": "execute_result"
    }
   ],
   "source": [
    "gau = (1/np.sqrt(2*math.pi*sigma))*np.exp(-(float(x) - mean) **2/ (2*sigma))\n",
    "\n",
    "# gau_2 = np.exp(-(((3.4-mean)**2)/(2*var)))\n",
    "gau*6/12"
   ]
  },
  {
   "cell_type": "code",
   "execution_count": 19,
   "metadata": {},
   "outputs": [
    {
     "data": {
      "text/plain": [
       "0.696867576946043"
      ]
     },
     "execution_count": 19,
     "metadata": {},
     "output_type": "execute_result"
    }
   ],
   "source": [
    "result = (1.0 / (np.sqrt(2*math.pi*sigma))) \\\n",
    "  * (np.exp(-(float(x) - mean) ** 2 / (2 * sigma)))\n",
    "result"
   ]
  },
  {
   "cell_type": "code",
   "execution_count": 21,
   "metadata": {},
   "outputs": [
    {
     "name": "stdout",
     "output_type": "stream",
     "text": [
      "[['Sunny' 'Hot' 'High' 'Weak' 'no']\n",
      " ['Sunny' 'Hot' 'High' 'Strong' 'no']\n",
      " ['Overcast' 'Hot' 'High' 'Weak' 'yes']\n",
      " ['Rain' 'Mild' 'High' 'Weak' 'yes']\n",
      " ['Rain' 'Cool' 'Normal' 'Weak' 'yes']\n",
      " ['Rain' 'Cool' 'Normal' 'Strong' 'no']\n",
      " ['Overcast' 'Cool' 'Normal' 'Strong' 'yes']\n",
      " ['Overcast' 'Mild' 'High' 'Weak' 'no']\n",
      " ['Sunny' 'Cool' 'Normal' 'Weak' 'yes']\n",
      " ['Rain' 'Mild' 'Normal' 'Weak' 'yes']]\n"
     ]
    }
   ],
   "source": [
    "#Question 4\n",
    "\n",
    "import numpy as np\n",
    "\n",
    "def create_train_data():\n",
    "\n",
    "  data=[['Sunny','Hot', 'High', 'Weak', 'no'],\n",
    "        ['Sunny','Hot', 'High', 'Strong', 'no'],\n",
    "        ['Overcast','Hot', 'High', 'Weak', 'yes'],\n",
    "        ['Rain','Mild', 'High', 'Weak', 'yes'],\n",
    "        ['Rain','Cool', 'Normal', 'Weak', 'yes'],\n",
    "        ['Rain','Cool', 'Normal', 'Strong', 'no'],\n",
    "        ['Overcast','Cool', 'Normal', 'Strong', 'yes'],\n",
    "        ['Overcast','Mild', 'High', 'Weak', 'no'],\n",
    "        ['Sunny','Cool', 'Normal', 'Weak', 'yes'],\n",
    "        ['Rain','Mild', 'Normal', 'Weak', 'yes']\n",
    "        ]\n",
    "  return np.array(data)\n",
    "\n",
    "train_data = create_train_data()\n",
    "print(train_data)"
   ]
  },
  {
   "cell_type": "code",
   "execution_count": 22,
   "metadata": {},
   "outputs": [
    {
     "name": "stdout",
     "output_type": "stream",
     "text": [
      "P(“Play Tennis” = No) 0.4\n",
      "P(“Play Tennis” = Yes) 0.6\n"
     ]
    }
   ],
   "source": [
    "def compute_prior_probablity(train_data):\n",
    "  y_unique = ['no', 'yes']\n",
    "  prior_probability = np.zeros(len(y_unique))\n",
    "  for i in range(0,len(y_unique)):\n",
    "    prior_probability[i]=len(np.where(train_data[:,4] == y_unique[i])[0])/len(train_data)\n",
    "  return prior_probability\n",
    "\n",
    "prior_probablity = compute_prior_probablity(train_data)\n",
    "print(\"P(“Play Tennis” = No)\", prior_probablity[0])\n",
    "print(\"P(“Play Tennis” = Yes)\", prior_probablity[1])"
   ]
  },
  {
   "cell_type": "code",
   "execution_count": 92,
   "metadata": {},
   "outputs": [
    {
     "name": "stdout",
     "output_type": "stream",
     "text": [
      "x_unique ['Overcast' 'Rain' 'Sunny']\n",
      "x_unique ['Cool' 'Hot' 'Mild']\n",
      "x_unique ['High' 'Normal']\n",
      "x_unique ['Strong' 'Weak']\n"
     ]
    }
   ],
   "source": [
    "def train_naive_bayes(train_data):\n",
    "    # Step 1: Calculate Prior Probability\n",
    "    prior_probability = compute_prior_probablity(train_data)\n",
    "\n",
    "    # Step 2: Calculate Conditional Probability\n",
    "    conditional_probability, list_x_name  = compute_conditional_probability(train_data)\n",
    "\n",
    "    return prior_probability,conditional_probability, list_x_name\n",
    "\n",
    "data = create_train_data()\n",
    "prior_probability,conditional_probability, list_x_name = train_naive_bayes(data)"
   ]
  },
  {
   "cell_type": "code",
   "execution_count": 27,
   "metadata": {},
   "outputs": [],
   "source": [
    "def compute_conditional_probability(train_data):\n",
    "  y_unique = ['no', 'yes']\n",
    "  conditional_probability = []\n",
    "  list_x_name = []\n",
    "  for i in range(0,train_data.shape[1]-1):\n",
    "    x_unique = np.unique(train_data[:,i])\n",
    "    print(\"x_unique\", x_unique)\n",
    "\n",
    "    list_x_name.append(x_unique)\n",
    "\n",
    "    x_conditional_probability = np.zeros((len(y_unique),len(x_unique)))\n",
    "    for j in range(0,len(y_unique)):\n",
    "      for k in range(0,len(x_unique)):\n",
    "        x_conditional_probability[j,k]= len(np.where((train_data[:,i] == x_unique[k]) & (train_data[:,4] == y_unique[j]))[0])/len(np.where(train_data[:,4] == y_unique[j])[0])\n",
    "\n",
    "    conditional_probability.append(x_conditional_probability)\n",
    "  return conditional_probability, list_x_name"
   ]
  },
  {
   "cell_type": "code",
   "execution_count": 30,
   "metadata": {},
   "outputs": [
    {
     "name": "stdout",
     "output_type": "stream",
     "text": [
      "x_unique ['Overcast' 'Rain' 'Sunny']\n",
      "x_unique ['Cool' 'Hot' 'Mild']\n",
      "x_unique ['High' 'Normal']\n",
      "x_unique ['Strong' 'Weak']\n",
      "x1 =  ['Overcast' 'Rain' 'Sunny']\n",
      "x2 =  ['Cool' 'Hot' 'Mild']\n",
      "x3 =  ['High' 'Normal']\n",
      "x4 =  ['Strong' 'Weak']\n"
     ]
    }
   ],
   "source": [
    "#Q15\n",
    "train_data = create_train_data()\n",
    "_, list_x_name  = compute_conditional_probability(train_data)\n",
    "print(\"x1 = \",list_x_name[0])\n",
    "print(\"x2 = \",list_x_name[1])\n",
    "print(\"x3 = \",list_x_name[2])\n",
    "print(\"x4 = \",list_x_name[3])"
   ]
  },
  {
   "cell_type": "code",
   "execution_count": 45,
   "metadata": {},
   "outputs": [],
   "source": [
    "def get_index_from_value (feature_name,list_features ) :\n",
    "    return np.where(list_features == feature_name)[0][0]"
   ]
  },
  {
   "cell_type": "code",
   "execution_count": 46,
   "metadata": {},
   "outputs": [
    {
     "name": "stdout",
     "output_type": "stream",
     "text": [
      "x_unique ['Overcast' 'Rain' 'Sunny']\n",
      "x_unique ['Cool' 'Hot' 'Mild']\n",
      "x_unique ['High' 'Normal']\n",
      "x_unique ['Strong' 'Weak']\n",
      "0 1 2\n"
     ]
    }
   ],
   "source": [
    "#Q16\n",
    "train_data = create_train_data()\n",
    "_, list_x_name  = compute_conditional_probability(train_data)\n",
    "outlook = list_x_name[0]\n",
    "i1 = get_index_from_value(\"Overcast\", outlook)\n",
    "i2 = get_index_from_value(\"Rain\", outlook)\n",
    "i3 = get_index_from_value(\"Sunny\", outlook)\n",
    "\n",
    "print(i1, i2, i3)"
   ]
  },
  {
   "cell_type": "code",
   "execution_count": 83,
   "metadata": {},
   "outputs": [
    {
     "name": "stdout",
     "output_type": "stream",
     "text": [
      "x_unique ['Overcast' 'Rain' 'Sunny']\n",
      "x_unique ['Cool' 'Hot' 'Mild']\n",
      "x_unique ['High' 'Normal']\n",
      "x_unique ['Strong' 'Weak']\n",
      "P('Outlook'='Sunny'|Play Tennis'='Yes') =  0.17\n"
     ]
    },
    {
     "data": {
      "text/plain": [
       "array(['Overcast', 'Rain', 'Sunny'], dtype='<U8')"
      ]
     },
     "execution_count": 83,
     "metadata": {},
     "output_type": "execute_result"
    }
   ],
   "source": [
    "#Q17\n",
    "train_data = create_train_data()\n",
    "conditional_probability, list_x_name  = compute_conditional_probability(train_data)\n",
    "\n",
    "# conditional_probability, list_x_name\n",
    "# list_x_name[0]\n",
    "# Compute P(\"Outlook\"=\"Sunny\"|Play Tennis\"=\"Yes\")\n",
    "x1=get_index_from_value(\"Sunny\",list_x_name[0])\n",
    "# x1\n",
    "print(\"P('Outlook'='Sunny'|Play Tennis'='Yes') = \", np.round(conditional_probability[0][1, x1],2))\n",
    "list_x_name[0]"
   ]
  },
  {
   "cell_type": "code",
   "execution_count": 85,
   "metadata": {},
   "outputs": [],
   "source": [
    "#Q18\n",
    "def prediction_play_tennis(X, list_x_name, prior_probability, conditional_probability):\n",
    "\n",
    "    x1=get_index_from_value(X[0],list_x_name[0])\n",
    "    x2=get_index_from_value(X[1],list_x_name[1])\n",
    "    x3=get_index_from_value(X[2],list_x_name[2])\n",
    "    x4=get_index_from_value(X[3],list_x_name[3])\n",
    "\n",
    "    p0=prior_probability[0] \\\n",
    "    *conditional_probability[0][0,x1] \\\n",
    "    *conditional_probability[1][0,x2] \\\n",
    "    *conditional_probability[2][0,x3] \\\n",
    "    *conditional_probability[3][0,x4]\n",
    "\n",
    "    p1=prior_probability[1]\\\n",
    "    *conditional_probability[0][1,x1]\\\n",
    "    *conditional_probability[1][1,x2]\\\n",
    "    *conditional_probability[2][1,x3]\\\n",
    "    *conditional_probability[3][1,x4]\n",
    "\n",
    "    # print(p0, p1)\n",
    "\n",
    "    if p0>p1:\n",
    "        y_pred=0\n",
    "    else:\n",
    "        y_pred=1\n",
    "\n",
    "    return y_pred\n",
    "\n",
    "# prediction_play_tennis()"
   ]
  },
  {
   "cell_type": "code",
   "execution_count": 94,
   "metadata": {},
   "outputs": [
    {
     "name": "stdout",
     "output_type": "stream",
     "text": [
      "x_unique ['Overcast' 'Rain' 'Sunny']\n",
      "x_unique ['Cool' 'Hot' 'Mild']\n",
      "x_unique ['High' 'Normal']\n",
      "x_unique ['Strong' 'Weak']\n",
      "Ad should not go!\n"
     ]
    }
   ],
   "source": [
    "#Q19\n",
    "X = ['Sunny','Cool', 'High', 'Strong']\n",
    "data = create_train_data()\n",
    "prior_probability,conditional_probability, list_x_name = train_naive_bayes(data)\n",
    "pred =  prediction_play_tennis(X, list_x_name, prior_probability, conditional_probability)\n",
    "\n",
    "if(pred):\n",
    "  print(\"Ad should go!\")\n",
    "else:\n",
    "  print(\"Ad should not go!\")"
   ]
  }
 ],
 "metadata": {
  "kernelspec": {
   "display_name": "Python 3",
   "language": "python",
   "name": "python3"
  },
  "language_info": {
   "codemirror_mode": {
    "name": "ipython",
    "version": 3
   },
   "file_extension": ".py",
   "mimetype": "text/x-python",
   "name": "python",
   "nbconvert_exporter": "python",
   "pygments_lexer": "ipython3",
   "version": "3.12.3"
  }
 },
 "nbformat": 4,
 "nbformat_minor": 2
}
