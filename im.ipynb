{
 "cells": [
  {
   "cell_type": "code",
   "execution_count": 1,
   "metadata": {},
   "outputs": [],
   "source": [
    "import numpy as np"
   ]
  },
  {
   "cell_type": "code",
   "execution_count": 17,
   "metadata": {},
   "outputs": [
    {
     "data": {
      "text/plain": [
       "array([[0, 1, 2, 3, 4],\n",
       "       [5, 6, 7, 8, 9]])"
      ]
     },
     "execution_count": 17,
     "metadata": {},
     "output_type": "execute_result"
    }
   ],
   "source": [
    "a = np.arange(0,10)\n",
    "a.reshape(-1,5) \n",
    "a.reshape(2,5)\n",
    "a.reshape(2,-1)"
   ]
  },
  {
   "cell_type": "code",
   "execution_count": 20,
   "metadata": {},
   "outputs": [
    {
     "data": {
      "text/plain": [
       "array([3, 4, 6, 5])"
      ]
     },
     "execution_count": 20,
     "metadata": {},
     "output_type": "execute_result"
    }
   ],
   "source": [
    "b = np.arange(3,7)\n",
    "c = b[[0,1,3,2]]\n",
    "c"
   ]
  },
  {
   "cell_type": "code",
   "execution_count": 33,
   "metadata": {},
   "outputs": [
    {
     "data": {
      "text/plain": [
       "array([[1., 0., 0.],\n",
       "       [1., 0., 0.],\n",
       "       [0., 1., 0.],\n",
       "       [0., 1., 0.],\n",
       "       [0., 0., 1.],\n",
       "       [0., 0., 1.]])"
      ]
     },
     "execution_count": 33,
     "metadata": {},
     "output_type": "execute_result"
    }
   ],
   "source": [
    "label = [0,0,1,1,2,2]\n",
    "num_sample = 6\n",
    "classes = 3\n",
    "y = np.zeros((num_sample,classes))\n",
    "row = 0 \n",
    "for i in label:\n",
    "    "
   ]
  },
  {
   "cell_type": "code",
   "execution_count": 21,
   "metadata": {},
   "outputs": [
    {
     "data": {
      "text/plain": [
       "(array([0, 1, 1], dtype=int64),\n",
       " array([0, 2], dtype=int64),\n",
       " array([[7.38905610e+00, 1.48413159e+02, 2.98095799e+03],\n",
       "        [2.00855369e+01, 5.45981500e+01, 2.71828183e+00]]),\n",
       " array([[7.38905610e+00, 1.48413159e+02, 2.98095799e+03],\n",
       "        [2.00855369e+01, 5.45981500e+01, 2.71828183e+00]]))"
      ]
     },
     "execution_count": 21,
     "metadata": {},
     "output_type": "execute_result"
    }
   ],
   "source": [
    "import numpy as np \n",
    "a = np.array([[2,5,8],[3,4,1]])\n",
    "a_power = np.power(np.e,a)\n",
    "a_power_2 = np.power(np.exp(a),1)\n",
    "np.argmin(a_power,axis=0),np.argmin(a_power,axis=1),a_power,a_power_2\n",
    "# Convert the flat index to row and column indices\n",
    "# min_index = np.unravel_index(min_index_flat, a_power.shape)\n",
    "\n",
    "# Print the result\n",
    "# print(\"Index of minimum value:\", min_index)\n",
    "# print(\"Minimum value:\", a_power[min_index])"
   ]
  },
  {
   "cell_type": "code",
   "execution_count": 25,
   "metadata": {},
   "outputs": [
    {
     "data": {
      "text/plain": [
       "array([0, 1, 2])"
      ]
     },
     "execution_count": 25,
     "metadata": {},
     "output_type": "execute_result"
    }
   ],
   "source": [
    "b = np.array([[0,1,2],\n",
    "              [0,0,0]])\n",
    "np.sum(b,axis = 0)"
   ]
  }
 ],
 "metadata": {
  "kernelspec": {
   "display_name": "Python 3",
   "language": "python",
   "name": "python3"
  },
  "language_info": {
   "codemirror_mode": {
    "name": "ipython",
    "version": 3
   },
   "file_extension": ".py",
   "mimetype": "text/x-python",
   "name": "python",
   "nbconvert_exporter": "python",
   "pygments_lexer": "ipython3",
   "version": "3.12.3"
  }
 },
 "nbformat": 4,
 "nbformat_minor": 2
}
