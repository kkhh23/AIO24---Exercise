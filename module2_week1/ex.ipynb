{
 "cells": [
  {
   "cell_type": "code",
   "execution_count": 29,
   "metadata": {},
   "outputs": [
    {
     "data": {
      "text/plain": [
       "126.22999999999999"
      ]
     },
     "execution_count": 29,
     "metadata": {},
     "output_type": "execute_result"
    }
   ],
   "source": [
    "import matplotlib.image as mpimg\n",
    "import numpy as np\n",
    "import matplotlib.pyplot as plt\n",
    "img = mpimg.imread ('dog.jpeg')\n",
    "\n",
    "# Lightness\n",
    "# gray_img_01 = (np.max(img, axis=2) + np.min(img,axis=2))/2\n",
    "\n",
    "#Average\n",
    "# gray_img_01 = np.sum(img,axis=2)/3\n",
    "\n",
    "#Luminosity\n",
    "gray_img_01 = img[:,:,0]*0.21 + img[:,:,1]*0.72 + img[:,:,2]*0.07\n",
    "\n",
    "gray_img_01[0,0]\n",
    "# plt.imshow(gray_img_01,cmap='gray')"
   ]
  },
  {
   "cell_type": "code",
   "execution_count": 38,
   "metadata": {},
   "outputs": [
    {
     "name": "stdout",
     "output_type": "stream",
     "text": [
      "Value max: 27.0 - Index max: 175\n"
     ]
    }
   ],
   "source": [
    "import pandas as pd\n",
    "df = pd.read_csv ('advertising.csv')\n",
    "\n",
    "data = df.to_numpy()\n",
    "max_value = np.max(data,axis=0)\n",
    "max_index = np.argmax(data,axis=0)\n",
    "print(f'Value max: {max_value[-1]} - Index max: {max_index[-1]}')"
   ]
  },
  {
   "cell_type": "code",
   "execution_count": 82,
   "metadata": {},
   "outputs": [
    {
     "name": "stdout",
     "output_type": "stream",
     "text": [
      "Avearge TV col is 147.0425\n",
      "Sales value greater than 20 is 40\n",
      "Average value of Radio column where Sales >= 15 is 26.22293577981651\n"
     ]
    }
   ],
   "source": [
    "tv_mean = np.mean(data,axis=0)[0]\n",
    "print(f'Avearge TV col is {tv_mean}')\n",
    "sales = data[:,3]\n",
    "sales_count = np.sum(sales>=20)\n",
    "print(f'Sales value greater than 20 is {sales_count}')\n",
    "radio_sales = data[:,1:]\n",
    "radio_mean = np.mean(radio_sales[radio_sales[:,2] >= 15,0])\n",
    "print(f'Average value of Radio column where Sales >= 15 is {radio_mean}')\n",
    "# np.mean(  "
   ]
  },
  {
   "cell_type": "code",
   "execution_count": 90,
   "metadata": {},
   "outputs": [
    {
     "data": {
      "text/plain": [
       "1405.1"
      ]
     },
     "execution_count": 90,
     "metadata": {},
     "output_type": "execute_result"
    }
   ],
   "source": [
    "new_paper_mean = np.mean(data,axis=0)[2]\n",
    "sum_sale_if_newpp_overavg = np.sum(radio_sales[radio_sales[:,1] > new_paper_mean,2])\n",
    "sum_sale_if_newpp_overavg"
   ]
  },
  {
   "cell_type": "code",
   "execution_count": 91,
   "metadata": {},
   "outputs": [
    {
     "name": "stdout",
     "output_type": "stream",
     "text": [
      "['Bad' 'Bad' 'Good']\n"
     ]
    }
   ],
   "source": [
    "sales_mean = np.mean(data[:, 3])\n",
    "scores = np.where(data[:, 3] > sales_mean, 'Good', np.where(data[:, 3] < sales_mean, 'Bad', 'Average'))\n",
    "print(scores[7:10])\n"
   ]
  },
  {
   "cell_type": "code",
   "execution_count": 96,
   "metadata": {},
   "outputs": [],
   "source": [
    "sales = data[:, 3]\n",
    "sales_mean = np.mean(sales)\n",
    "closest_to_mean = sales[np.abs(sales - sales_mean).argmin()]\n",
    "scores = np.where(sales > closest_to_mean, 'Good', np.where(sales < closest_to_mean, 'Bad', 'Average'))\n",
    "# print(scores[7:10])\n",
    "# sales,sales_mean,sales[np.abs(sales[0] - sales_mean).argmin()]\n"
   ]
  }
 ],
 "metadata": {
  "kernelspec": {
   "display_name": "Python 3",
   "language": "python",
   "name": "python3"
  },
  "language_info": {
   "codemirror_mode": {
    "name": "ipython",
    "version": 3
   },
   "file_extension": ".py",
   "mimetype": "text/x-python",
   "name": "python",
   "nbconvert_exporter": "python",
   "pygments_lexer": "ipython3",
   "version": "3.12.3"
  }
 },
 "nbformat": 4,
 "nbformat_minor": 2
}
